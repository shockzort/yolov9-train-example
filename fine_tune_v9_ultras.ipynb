{
 "cells": [
  {
   "cell_type": "code",
   "execution_count": null,
   "metadata": {},
   "outputs": [],
   "source": [
    "#%pip install --upgrade ultralytics wandb\n",
    "\n",
    "import os\n",
    "import wandb\n",
    "from wandb.integration.ultralytics import add_wandb_callback\n",
    "from ultralytics import YOLO\n",
    "\n",
    "# sky fusion dataset\n",
    "# https://www.kaggle.com/datasets/pranavdurai/skyfusion-aerial-imagery-object-detection-dataset/\n",
    "\n",
    "yolo_path = \"yolov9_ultra\"\n",
    "\n",
    "%mkdir -p {yolo_path}\n",
    "%cd {yolo_path}\n",
    "\n",
    "!wandb login\n",
    "\n",
    "dataset = os.path.join(os.getcwd(),\"data/sky_fusion_dataset/data.yaml\")\n",
    "config = \"yolov9c.yaml\"\n",
    "pretrained_model = \"yolov9c.pt\"\n",
    "\n",
    "num_workers = 8\n",
    "batch = 4\n",
    "epochs = 100\n",
    "img_sz = 640\n",
    "device = 0\n",
    "freeze = 0\n",
    "close_mosaic = 10\n",
    "project = \"YOLOv9_fine_tune\"\n",
    "name = \"with_freeze_ultra_run1\"\n",
    "\n",
    "resume = False\n",
    "\n",
    "model = YOLO(pretrained_model)\n",
    "model.info()\n",
    "add_wandb_callback(model, enable_model_checkpointing=True)\n",
    "\n",
    "results = model.train(data=dataset, epochs=epochs, imgsz=img_sz, batch=batch, device=device, freeze=freeze, \n",
    "                      close_mosaic=close_mosaic,workers=num_workers, project=project, name=name)\n",
    "\n",
    "wandb.finish()"
   ]
  }
 ],
 "metadata": {
  "kernelspec": {
   "display_name": ".venv",
   "language": "python",
   "name": "python3"
  },
  "language_info": {
   "codemirror_mode": {
    "name": "ipython",
    "version": 3
   },
   "file_extension": ".py",
   "mimetype": "text/x-python",
   "name": "python",
   "nbconvert_exporter": "python",
   "pygments_lexer": "ipython3",
   "version": "3.10.12"
  }
 },
 "nbformat": 4,
 "nbformat_minor": 2
}
