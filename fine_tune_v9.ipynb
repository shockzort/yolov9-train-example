{
 "cells": [
  {
   "cell_type": "code",
   "execution_count": null,
   "metadata": {},
   "outputs": [],
   "source": [
    "import os\n",
    "\n",
    "# sky fusion dataset\n",
    "# https://www.kaggle.com/datasets/pranavdurai/skyfusion-aerial-imagery-object-detection-dataset/\n",
    "\n",
    "yolo_path = \"yolov9\"\n",
    "\n",
    "if not os.path.exists(yolo_path):\n",
    "    !git clone https://github.com/WongKinYiu/yolov9.git\n",
    "\n",
    "%cd {yolo_path}\n",
    "\n",
    "# %pip install seaborn thop\n",
    "# %pip install -r requirements.txt\n",
    "!wandb login\n",
    "\n",
    "dataset = \"data/sky_fusion_dataset/data.yaml\"\n",
    "config = \"models/detect/yolov9-s.yaml\"\n",
    "hyp = \"hyp.scratch-high.yaml\"\n",
    "weights = \"weights\"\n",
    "model = \"yolov9-m.pt\"\n",
    "\n",
    "num_workers = 8\n",
    "batch = 4\n",
    "epochs = 100\n",
    "img_sz = 640\n",
    "device = 0\n",
    "freeze = 0\n",
    "close_mosaic = 10\n",
    "project = \"YOLOv9_fine_tune\"\n",
    "name = \"without_freeze_run1\"\n",
    "\n",
    "resume = False\n",
    "\n",
    "train_setup = \"--workers {} --batch {} --epochs {} --img {} --device {} --freeze {} --close-mosaic {} --project {} --name {} --data {} --weights {} --cfg {} --hyp {}{}\".format(\n",
    "    num_workers, batch, epochs, img_sz, device, freeze, close_mosaic, project, name, dataset, weights + \"/\" + model, config, hyp, \" --resume\" if resume else \"\")\n",
    "\n",
    "!python train_dual.py {train_setup}\n"
   ]
  }
 ],
 "metadata": {
  "kernelspec": {
   "display_name": ".venv",
   "language": "python",
   "name": "python3"
  },
  "language_info": {
   "codemirror_mode": {
    "name": "ipython",
    "version": 3
   },
   "file_extension": ".py",
   "mimetype": "text/x-python",
   "name": "python",
   "nbconvert_exporter": "python",
   "pygments_lexer": "ipython3",
   "version": "3.10.12"
  }
 },
 "nbformat": 4,
 "nbformat_minor": 2
}
